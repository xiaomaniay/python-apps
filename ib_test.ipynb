{
 "cells": [
  {
   "cell_type": "code",
   "execution_count": 1,
   "metadata": {},
   "outputs": [
    {
     "name": "stderr",
     "output_type": "stream",
     "text": [
      "Error 321, reqId -1: Error validating request:-'b_' : cause - The API interface is currently in Read-Only mode.\n",
      "reqCompletedOrders timed out\n"
     ]
    },
    {
     "data": {
      "text/plain": [
       "<IB connected to 127.0.0.1:7497 clientId=2>"
      ]
     },
     "execution_count": 1,
     "metadata": {},
     "output_type": "execute_result"
    }
   ],
   "source": [
    "from ib_insync import *\n",
    "import time\n",
    "util.startLoop()\n",
    "\n",
    "ib = IB()\n",
    "ib.connect('127.0.0.1', 7497, clientId=2)"
   ]
  },
  {
   "cell_type": "code",
   "execution_count": null,
   "metadata": {},
   "outputs": [],
   "source": [
    "symbol = 'VIX'\n",
    "exchange = 'CBOE'\n",
    "contract = Index(symbol, exchange)"
   ]
  },
  {
   "cell_type": "code",
   "execution_count": null,
   "metadata": {},
   "outputs": [],
   "source": [
    "ib.qualifyContracts(contract)\n",
    "ib.reqMarketDataType(3)\n",
    "ticker = ib.reqMktData(contract)\n",
    "time.sleep(8)\n",
    "ticker.close"
   ]
  },
  {
   "cell_type": "code",
   "execution_count": null,
   "metadata": {},
   "outputs": [],
   "source": [
    "vars(ticker)"
   ]
  },
  {
   "cell_type": "code",
   "execution_count": 2,
   "metadata": {},
   "outputs": [
    {
     "name": "stdout",
     "output_type": "stream",
     "text": [
      "nan\n",
      "6\n"
     ]
    }
   ],
   "source": [
    "symbol = 'VIX'\n",
    "exchange = 'CBOE'\n",
    "contract = Index(symbol, exchange)\n",
    "# Fully qualify the given contracts in-place.\n",
    "# This will fill in the missing fields in the contract, especially the conId\n",
    "# import pdb;pdb.set_trace()\n",
    "ib.qualifyContracts(contract)\n",
    "ib.reqMarketDataType(3)\n",
    "\n",
    "ticker = ib.reqMktData(contract)\n",
    "print(ticker.close)\n",
    "\n",
    "\n",
    "# get the option chain\n",
    "chains = ib.reqSecDefOptParams(contract.symbol, '', contract.secType, contract.conId)\n",
    "\n",
    "# convert to pandas dataframe:\n",
    "df = util.df(chains)\n",
    "\n",
    "# choose the target contract\n",
    "chain = next(c for c in chains if c.tradingClass == symbol and c.exchange == exchange)\n",
    "\n",
    "# full matrix of expirations x strikes\n",
    "strikes = chain.strikes[:1]\n",
    "expirations = sorted(exp for exp in chain.expirations)[:3]\n",
    "rights = ['P', 'C']\n",
    "\n",
    "contracts = [Option(symbol, expiration, strike, right, chain.exchange, chain.multiplier) for right in rights\n",
    "             for expiration in expirations for strike in strikes]\n",
    "\n",
    "contracts = ib.qualifyContracts(*contracts)\n",
    "print(len(contracts))"
   ]
  },
  {
   "cell_type": "code",
   "execution_count": null,
   "metadata": {},
   "outputs": [],
   "source": [
    "for i in range(len(contracts)):\n",
    "    # request delayed market data to avoid permission problem\n",
    "    ib.reqMarketDataType(3)\n",
    "    ticker = ib.reqMktData(contracts[i], '', False, False)\n",
    "    print(str(ticker.time) + ' ' + str(contract))"
   ]
  },
  {
   "cell_type": "code",
   "execution_count": null,
   "metadata": {},
   "outputs": [],
   "source": [
    "contracts[0]"
   ]
  },
  {
   "cell_type": "code",
   "execution_count": 8,
   "metadata": {},
   "outputs": [
    {
     "name": "stderr",
     "output_type": "stream",
     "text": [
      "Error 162, reqId 20: Historical Market Data Service error message:HMDS query returned no data: VIX   200916P00010000@CBOE Midpoint, contract: Option(conId=398773339, symbol='VIX', lastTradeDateOrContractMonth='20200915', strike=10.0, right='P', multiplier='100', exchange='CBOE', currency='USD', localSymbol='VIX   200916P00010000', tradingClass='VIX')\n"
     ]
    },
    {
     "data": {
      "text/plain": [
       "{'updateEvent': Event<updateEvent, []>,\n",
       " 'reqId': 20,\n",
       " 'contract': Option(conId=398773339, symbol='VIX', lastTradeDateOrContractMonth='20200915', strike=10.0, right='P', multiplier='100', exchange='CBOE', currency='USD', localSymbol='VIX   200916P00010000', tradingClass='VIX'),\n",
       " 'endDateTime': '',\n",
       " 'durationStr': '5 D',\n",
       " 'barSizeSetting': '1 hour',\n",
       " 'whatToShow': 'MIDPOINT',\n",
       " 'useRTH': True,\n",
       " 'formatDate': 1,\n",
       " 'keepUpToDate': False,\n",
       " 'chartOptions': []}"
      ]
     },
     "execution_count": 8,
     "metadata": {},
     "output_type": "execute_result"
    }
   ],
   "source": [
    "# ib.reqMarketDataType(3)\n",
    "ticker = ib.reqHistoricalData(contracts[2], endDateTime='', durationStr='5 D',\n",
    "    barSizeSetting='1 hour', whatToShow='MIDPOINT', useRTH=True)\n",
    "vars(ticker)"
   ]
  },
  {
   "cell_type": "code",
   "execution_count": 6,
   "metadata": {},
   "outputs": [
    {
     "name": "stdout",
     "output_type": "stream",
     "text": [
      "2020-07-19 09:22:12.824995+00:00 Index(conId=13455763, symbol='VIX', exchange='CBOE', currency='USD', localSymbol='VIX')\n"
     ]
    }
   ],
   "source": [
    "print(str(ticker.time) + ' ' + str(contract))"
   ]
  },
  {
   "cell_type": "code",
   "execution_count": null,
   "metadata": {},
   "outputs": [],
   "source": [
    "ib.reqMarketDataType(4)"
   ]
  },
  {
   "cell_type": "code",
   "execution_count": null,
   "metadata": {},
   "outputs": [],
   "source": [
    "ticker = ib.reqMktData(spx)\n",
    "vars(ticker)"
   ]
  },
  {
   "cell_type": "code",
   "execution_count": null,
   "metadata": {},
   "outputs": [],
   "source": [
    "spx_value = ticker.close\n",
    "spx_value"
   ]
  },
  {
   "cell_type": "code",
   "execution_count": null,
   "metadata": {},
   "outputs": [],
   "source": [
    "chains = ib.reqSecDefOptParams(spx.symbol, '', spx.secType, spx.conId)\n",
    "\n",
    "util.df(chains)"
   ]
  },
  {
   "cell_type": "code",
   "execution_count": null,
   "metadata": {},
   "outputs": [],
   "source": [
    "chain = next(c for c in chains if c.tradingClass == 'VIX' and c.exchange == 'CBOE')\n",
    "chain"
   ]
  },
  {
   "cell_type": "code",
   "execution_count": null,
   "metadata": {},
   "outputs": [],
   "source": [
    "strikes = [strike for strike in chain.strikes if spx_value - 20 < strike < spx_value + 20]\n",
    "expirations = sorted(exp for exp in chain.expirations)[:3]\n",
    "rights = ['P', 'C']\n",
    "\n",
    "contracts = [Option('VIX', expiration, strike, right, chain.exchange, tradingClass=chain.tradingClass) for right in rights \n",
    "             for expiration in expirations for strike in strikes]\n",
    "\n",
    "contracts = ib.qualifyContracts(*contracts)\n",
    "len(contracts)"
   ]
  },
  {
   "cell_type": "code",
   "execution_count": null,
   "metadata": {},
   "outputs": [],
   "source": [
    "contracts[0]"
   ]
  },
  {
   "cell_type": "code",
   "execution_count": null,
   "metadata": {},
   "outputs": [],
   "source": [
    "tickers = ib.reqMktData(contracts[0], '', False, False)\n",
    "\n",
    "tickers"
   ]
  },
  {
   "cell_type": "code",
   "execution_count": null,
   "metadata": {},
   "outputs": [],
   "source": [
    "ib.positions()"
   ]
  },
  {
   "cell_type": "code",
   "execution_count": null,
   "metadata": {},
   "outputs": [],
   "source": [
    "[v for v in ib.accountValues() if v.tag == 'NetLiquidationByCurrency' and v.currency == 'BASE']"
   ]
  },
  {
   "cell_type": "code",
   "execution_count": null,
   "metadata": {},
   "outputs": [],
   "source": [
    "contract = Stock('TSLA', 'SMART', 'USD')"
   ]
  },
  {
   "cell_type": "code",
   "execution_count": null,
   "metadata": {},
   "outputs": [],
   "source": [
    "ib.reqMarketDataType(4)\n",
    "bars = "
   ]
  },
  {
   "cell_type": "code",
   "execution_count": null,
   "metadata": {},
   "outputs": [],
   "source": [
    "! pip freeze | grep ib_in"
   ]
  },
  {
   "cell_type": "code",
   "execution_count": null,
   "metadata": {},
   "outputs": [],
   "source": [
    "ticker"
   ]
  },
  {
   "cell_type": "code",
   "execution_count": null,
   "metadata": {},
   "outputs": [],
   "source": []
  }
 ],
 "metadata": {
  "kernelspec": {
   "display_name": "trading",
   "language": "python",
   "name": "trading"
  },
  "language_info": {
   "codemirror_mode": {
    "name": "ipython",
    "version": 3
   },
   "file_extension": ".py",
   "mimetype": "text/x-python",
   "name": "python",
   "nbconvert_exporter": "python",
   "pygments_lexer": "ipython3",
   "version": "3.7.3"
  }
 },
 "nbformat": 4,
 "nbformat_minor": 2
}
