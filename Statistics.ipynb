{
 "cells": [
  {
   "cell_type": "code",
   "execution_count": 3,
   "metadata": {},
   "outputs": [
    {
     "name": "stdout",
     "output_type": "stream",
     "text": [
      "Mean Absolute Deviation for X:  27.92000000000001\n"
     ]
    }
   ],
   "source": [
    "import numpy as np\n",
    "# Mean Absolute Deviation (MAD) \n",
    "X = np.random.randint(100, size=20)\n",
    "\n",
    "mean_X = np.mean(X)\n",
    "abs_dispersion = [np.abs(x - mean_X) for x in X]\n",
    "mad = np.sum(abs_dispersion) / len(X)\n",
    "print('Mean Absolute Deviation for X: ', mad)"
   ]
  },
  {
   "cell_type": "code",
   "execution_count": null,
   "metadata": {},
   "outputs": [],
   "source": []
  }
 ],
 "metadata": {
  "kernelspec": {
   "display_name": "Python 3",
   "language": "python",
   "name": "python3"
  },
  "language_info": {
   "codemirror_mode": {
    "name": "ipython",
    "version": 3
   },
   "file_extension": ".py",
   "mimetype": "text/x-python",
   "name": "python",
   "nbconvert_exporter": "python",
   "pygments_lexer": "ipython3",
   "version": "3.7.3"
  }
 },
 "nbformat": 4,
 "nbformat_minor": 2
}
